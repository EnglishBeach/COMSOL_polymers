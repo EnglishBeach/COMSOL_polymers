{
 "cells": [
  {
   "cell_type": "code",
   "execution_count": null,
   "metadata": {},
   "outputs": [],
   "source": [
    "import pandas as pd\n",
    "import numpy as np\n",
    "from datetime import date, time, datetime, timedelta\n",
    "\n",
    "import plotly.graph_objects as go\n",
    "\n",
    "import matplotlib.pyplot as plt\n",
    "from matplotlib.ticker import FormatStrFormatter,ScalarFormatter"
   ]
  },
  {
   "cell_type": "code",
   "execution_count": null,
   "metadata": {},
   "outputs": [],
   "source": [
    "PATH_EXCEL = r'D:\\WORKS\\COMSOL_polymers\\tables'\n",
    "STD_VALUES = {\n",
    "        'k1': 1E+9,\n",
    "        'k2': 1E+9,\n",
    "        'k3': 1E+9,\n",
    "        'k4': 1E+9,\n",
    "        'k5': 2000,\n",
    "        'k6': 2,\n",
    "        'k7': 0.05,\n",
    "        'k8': 1,\n",
    "        'k9': 0.001,\n",
    "        'k10': 1E+9,\n",
    "        'k11': 1E-5,\n",
    "    }"
   ]
  },
  {
   "cell_type": "code",
   "execution_count": null,
   "metadata": {},
   "outputs": [],
   "source": [
    "def df_from_comsol(\n",
    "    name,\n",
    "    from_name=r'\\out.csv',\n",
    "    temp_name=r'\\temp.csv',\n",
    "):\n",
    "    with open(PATH_EXCEL + from_name, 'r') as file:\n",
    "        lines = file.readlines()\n",
    "\n",
    "    with open(PATH_EXCEL + temp_name, 'w') as file:\n",
    "        for line in lines[4:]:\n",
    "            file.write(line)\n",
    "    df = pd.read_csv(PATH_EXCEL + r'\\temp.csv')\n",
    "    df = df.rename(\n",
    "        columns={\n",
    "            df.columns[0]: df.columns[0].replace('% ', ''),\n",
    "            'Time=1E-4, timeint(0, 1E-4, D)': 'target',\n",
    "        })\n",
    "    df['name'] = name\n",
    "    df['date'] = datetime.now().replace(second=0, microsecond=0)\n",
    "    return df\n",
    "\n",
    "\n",
    "def add_notes(from_name=r'\\out.csv'):\n",
    "    name = ''\n",
    "    while True:\n",
    "        name = input('Name (q for quit): ')\n",
    "        if (name != '') and (name != 'q'):\n",
    "            try:\n",
    "                old_df = pd.read_excel(PATH_EXCEL + r'\\base.xlsx', index_col=0)\n",
    "            except FileNotFoundError:\n",
    "                old_df = pd.DataFrame(\n",
    "                    {key: [None]\n",
    "                     for key in STD_VALUES.keys()})\n",
    "                old_df = old_df.drop(index=0)\n",
    "\n",
    "            new_df = pd.concat(\n",
    "                [old_df, df_from_comsol(name, from_name=from_name)],\n",
    "                ignore_index=True,\n",
    "            )\n",
    "            new_df = new_df.fillna(STD_VALUES)\n",
    "            new_df.to_excel(PATH_EXCEL + r'\\base.xlsx')\n",
    "\n",
    "            return new_df, old_df\n",
    "        elif name == 'q':\n",
    "            break\n",
    "\n",
    "\n",
    "def get_const_diap(df, print_only=False):\n",
    "    useless = [\n",
    "        'light',\n",
    "        'target',\n",
    "        'name',\n",
    "        'date',\n",
    "    ]\n",
    "    values = {}\n",
    "    for i in df:\n",
    "        if i in useless: continue\n",
    "        values.update({i: df[i].unique()})\n",
    "        if print_only: print(f'{i:<5}:{values[i]}')\n",
    "\n",
    "    if not print_only: return values\n"
   ]
  },
  {
   "cell_type": "code",
   "execution_count": null,
   "metadata": {},
   "outputs": [],
   "source": [
    "add_notes()"
   ]
  }
 ],
 "metadata": {
  "kernelspec": {
   "display_name": "Python 3.11.1 ('comsol_env': venv)",
   "language": "python",
   "name": "python3"
  },
  "language_info": {
   "codemirror_mode": {
    "name": "ipython",
    "version": 3
   },
   "file_extension": ".py",
   "mimetype": "text/x-python",
   "name": "python",
   "nbconvert_exporter": "python",
   "pygments_lexer": "ipython3",
   "version": "3.11.1"
  },
  "orig_nbformat": 4,
  "vscode": {
   "interpreter": {
    "hash": "cfc74b5112ba15cacff33bd9aeec3e307c41273b8b665299e3e0f715eb38eb42"
   }
  }
 },
 "nbformat": 4,
 "nbformat_minor": 2
}
