{
 "cells": [
  {
   "cell_type": "code",
   "execution_count": 1,
   "metadata": {},
   "outputs": [],
   "source": [
    "import pandas as pd\n",
    "import numpy as np\n",
    "from datetime import date, time, datetime, timedelta\n",
    "\n",
    "import plotly.graph_objects as go\n",
    "\n",
    "import matplotlib.pyplot as plt\n",
    "from matplotlib.ticker import FormatStrFormatter,ScalarFormatter"
   ]
  },
  {
   "cell_type": "code",
   "execution_count": 2,
   "metadata": {},
   "outputs": [],
   "source": [
    "df =pd.read_excel(r'D:\\WORKS\\COMSOL_polymers\\tables\\base.xlsx', index_col=0)\n",
    "CONSTS= [i for i in df.columns if 'k'in i]\n",
    "df['flag'] = df.groupby(CONSTS).ngroup()\n",
    "df['name'].unique()\n",
    "df = df[df['name']=='test_new']"
   ]
  },
  {
   "cell_type": "code",
   "execution_count": 3,
   "metadata": {},
   "outputs": [
    {
     "data": {
      "application/vnd.jupyter.widget-view+json": {
       "model_id": "2d7cca6da9ea4a468fd62008aad10764",
       "version_major": 2,
       "version_minor": 0
      },
      "text/plain": [
       "FigureWidget({\n",
       "    'data': [{'hovertemplate': ('light: %{x:.1e}\\n        <br>in' ... ' <br>Name: %{text[1]}\\n        '),\n",
       "              'marker': {'color': array([ 2,  3,  4, ..., 40, 41, 42], dtype=int64)},\n",
       "              'mode': 'markers',\n",
       "              'name': '',\n",
       "              'text': array([[2, 'test_new'],\n",
       "                             [3, 'test_new'],\n",
       "                             [4, 'test_new'],\n",
       "                             ...,\n",
       "                             [40, 'test_new'],\n",
       "                             [41, 'test_new'],\n",
       "                             [42, 'test_new']], dtype=object),\n",
       "              'type': 'scatter',\n",
       "              'uid': 'a5da38eb-1312-419c-bbfe-51fd60e96645',\n",
       "              'x': array([1.0e-06, 1.0e-06, 1.0e-06, ..., 9.1e-05, 9.1e-05, 9.1e-05]),\n",
       "              'y': array([5.43223665e-08, 5.43223665e-08, 5.43223665e-08, ..., 1.39533462e-07,\n",
       "                          1.39533462e-07, 1.39533462e-07])}],\n",
       "    'layout': {'height': 500,\n",
       "               'legend': {'x': -0.1, 'xanchor': 'center', 'y': 1},\n",
       "               'margin': {'b': 0, 'l': 0, 'r': 0, 't': 0},\n",
       "               'template': '...'}\n",
       "})"
      ]
     },
     "execution_count": 3,
     "metadata": {},
     "output_type": "execute_result"
    }
   ],
   "source": [
    "fig = go.FigureWidget()\n",
    "fig.add_trace(\n",
    "    go.Scatter(\n",
    "        name='',\n",
    "        x=df['light'],\n",
    "        y=df['target'],\n",
    "        mode='markers',\n",
    "        marker={'color': df['flag']},\n",
    "        text=df[['flag','name']],\n",
    "        hovertemplate=\"\"\"light: %{x:.1e}\n",
    "        <br>integral: %{y:.2s}\n",
    "        <br>Flag: %{text[0]}\n",
    "        <br>Name: %{text[1]}\n",
    "        \"\"\"\n",
    "        ,\n",
    "    ))\n",
    "fig.update_layout(\n",
    "    height=500,\n",
    "    margin={'r': 0, 'l': 0, 't': 0, 'b': 0},\n",
    "    legend=dict(x=-0.1, y=1, xanchor=\"center\"),    \n",
    ")\n",
    "\n",
    "\n",
    "def update_point(trace, points, selector):\n",
    "    for i in points.point_inds:\n",
    "        cur_flag = int(trace.text[i][0])\n",
    "        mask = df['flag'] == cur_flag\n",
    "        show_consts = [\n",
    "            i for i in CONSTS \n",
    "            if i not in ['k1', 'k2', 'k11']\n",
    "        ]\n",
    "        consts = df[mask][show_consts].drop_duplicates().head(1).squeeze()\n",
    "        consts_dict = dict(consts)\n",
    "        consts_list = [\n",
    "            f'{key:>}: {consts_dict[key]:<.5g}' for key in consts_dict\n",
    "        ]\n",
    "        print(f'Flag:{cur_flag}')\n",
    "        print(' '.join(consts_list))\n",
    "\n",
    "\n",
    "scatter = fig.data[0]\n",
    "scatter.on_click(update_point)\n",
    "fig"
   ]
  },
  {
   "cell_type": "code",
   "execution_count": 4,
   "metadata": {},
   "outputs": [
    {
     "ename": "IndexError",
     "evalue": "single positional indexer is out-of-bounds",
     "output_type": "error",
     "traceback": [
      "\u001b[1;31m---------------------------------------------------------------------------\u001b[0m",
      "\u001b[1;31mIndexError\u001b[0m                                Traceback (most recent call last)",
      "Cell \u001b[1;32mIn[4], line 13\u001b[0m\n\u001b[0;32m      4\u001b[0m ax\u001b[39m.\u001b[39mplot(\n\u001b[0;32m      5\u001b[0m     df1[\u001b[39m'\u001b[39m\u001b[39mlight\u001b[39m\u001b[39m'\u001b[39m],\n\u001b[0;32m      6\u001b[0m     df1[\u001b[39m'\u001b[39m\u001b[39mtarget\u001b[39m\u001b[39m'\u001b[39m],\n\u001b[0;32m      7\u001b[0m )\n\u001b[0;32m      8\u001b[0m ax\u001b[39m.\u001b[39mscatter(\n\u001b[0;32m      9\u001b[0m     df_max[\u001b[39m'\u001b[39m\u001b[39mlight\u001b[39m\u001b[39m'\u001b[39m],\n\u001b[0;32m     10\u001b[0m     df_max[\u001b[39m'\u001b[39m\u001b[39mtarget\u001b[39m\u001b[39m'\u001b[39m],\n\u001b[0;32m     11\u001b[0m     c\u001b[39m=\u001b[39m\u001b[39m'\u001b[39m\u001b[39mr\u001b[39m\u001b[39m'\u001b[39m,\n\u001b[0;32m     12\u001b[0m )\n\u001b[1;32m---> 13\u001b[0m max_value \u001b[39m=\u001b[39m df_max[\u001b[39m'\u001b[39;49m\u001b[39mtarget\u001b[39;49m\u001b[39m'\u001b[39;49m]\u001b[39m.\u001b[39;49miloc[\u001b[39m0\u001b[39;49m]\n\u001b[0;32m     14\u001b[0m max_light \u001b[39m=\u001b[39m df_max[\u001b[39m'\u001b[39m\u001b[39mlight\u001b[39m\u001b[39m'\u001b[39m]\u001b[39m.\u001b[39miloc[\u001b[39m0\u001b[39m]\n\u001b[0;32m     15\u001b[0m \u001b[39mprint\u001b[39m(\u001b[39mf\u001b[39m\u001b[39m'\u001b[39m\u001b[39mMax value = \u001b[39m\u001b[39m{\u001b[39;00mmax_value\u001b[39m:\u001b[39;00m\u001b[39m.2E\u001b[39m\u001b[39m}\u001b[39;00m\u001b[39m\\n\u001b[39;00m\u001b[39mLight     = \u001b[39m\u001b[39m{\u001b[39;00mmax_light\u001b[39m:\u001b[39;00m\u001b[39m.2E\u001b[39m\u001b[39m}\u001b[39;00m\u001b[39m'\u001b[39m)\n",
      "File \u001b[1;32md:\\WORKS\\COMSOL_polymers\\comsol_env\\Lib\\site-packages\\pandas\\core\\indexing.py:1103\u001b[0m, in \u001b[0;36m_LocationIndexer.__getitem__\u001b[1;34m(self, key)\u001b[0m\n\u001b[0;32m   1100\u001b[0m axis \u001b[39m=\u001b[39m \u001b[39mself\u001b[39m\u001b[39m.\u001b[39maxis \u001b[39mor\u001b[39;00m \u001b[39m0\u001b[39m\n\u001b[0;32m   1102\u001b[0m maybe_callable \u001b[39m=\u001b[39m com\u001b[39m.\u001b[39mapply_if_callable(key, \u001b[39mself\u001b[39m\u001b[39m.\u001b[39mobj)\n\u001b[1;32m-> 1103\u001b[0m \u001b[39mreturn\u001b[39;00m \u001b[39mself\u001b[39;49m\u001b[39m.\u001b[39;49m_getitem_axis(maybe_callable, axis\u001b[39m=\u001b[39;49maxis)\n",
      "File \u001b[1;32md:\\WORKS\\COMSOL_polymers\\comsol_env\\Lib\\site-packages\\pandas\\core\\indexing.py:1656\u001b[0m, in \u001b[0;36m_iLocIndexer._getitem_axis\u001b[1;34m(self, key, axis)\u001b[0m\n\u001b[0;32m   1653\u001b[0m     \u001b[39mraise\u001b[39;00m \u001b[39mTypeError\u001b[39;00m(\u001b[39m\"\u001b[39m\u001b[39mCannot index by location index with a non-integer key\u001b[39m\u001b[39m\"\u001b[39m)\n\u001b[0;32m   1655\u001b[0m \u001b[39m# validate the location\u001b[39;00m\n\u001b[1;32m-> 1656\u001b[0m \u001b[39mself\u001b[39;49m\u001b[39m.\u001b[39;49m_validate_integer(key, axis)\n\u001b[0;32m   1658\u001b[0m \u001b[39mreturn\u001b[39;00m \u001b[39mself\u001b[39m\u001b[39m.\u001b[39mobj\u001b[39m.\u001b[39m_ixs(key, axis\u001b[39m=\u001b[39maxis)\n",
      "File \u001b[1;32md:\\WORKS\\COMSOL_polymers\\comsol_env\\Lib\\site-packages\\pandas\\core\\indexing.py:1589\u001b[0m, in \u001b[0;36m_iLocIndexer._validate_integer\u001b[1;34m(self, key, axis)\u001b[0m\n\u001b[0;32m   1587\u001b[0m len_axis \u001b[39m=\u001b[39m \u001b[39mlen\u001b[39m(\u001b[39mself\u001b[39m\u001b[39m.\u001b[39mobj\u001b[39m.\u001b[39m_get_axis(axis))\n\u001b[0;32m   1588\u001b[0m \u001b[39mif\u001b[39;00m key \u001b[39m>\u001b[39m\u001b[39m=\u001b[39m len_axis \u001b[39mor\u001b[39;00m key \u001b[39m<\u001b[39m \u001b[39m-\u001b[39mlen_axis:\n\u001b[1;32m-> 1589\u001b[0m     \u001b[39mraise\u001b[39;00m \u001b[39mIndexError\u001b[39;00m(\u001b[39m\"\u001b[39m\u001b[39msingle positional indexer is out-of-bounds\u001b[39m\u001b[39m\"\u001b[39m)\n",
      "\u001b[1;31mIndexError\u001b[0m: single positional indexer is out-of-bounds"
     ]
    },
    {
     "data": {
      "image/png": "[encoded data removed]",
      "text/plain": [
       "<Figure size 1500x900 with 1 Axes>"
      ]
     },
     "metadata": {},
     "output_type": "display_data"
    }
   ],
   "source": [
    "fig, ax = plt.subplots(figsize=(15, 9))\n",
    "df1 = df[df['flag']==12]\n",
    "df_max = df1[df1['target'] == df1['target'].max()]\n",
    "ax.plot(\n",
    "    df1['light'],\n",
    "    df1['target'],\n",
    ")\n",
    "ax.scatter(\n",
    "    df_max['light'],\n",
    "    df_max['target'],\n",
    "    c='r',\n",
    ")\n",
    "max_value = df_max['target'].iloc[0]\n",
    "max_light = df_max['light'].iloc[0]\n",
    "print(f'Max value = {max_value:.2E}\\nLight     = {max_light:.2E}')\n",
    "\n",
    "\n",
    "df1 = df[df['flag']==1]\n",
    "df1 = df1.sort_values(by='light')\n",
    "df_max = df1[df1['target'] == df1['target'].max()]\n",
    "ax.plot(\n",
    "    df1['light'],\n",
    "    df1['target'],\n",
    ")\n",
    "ax.scatter(\n",
    "    df_max['light'],\n",
    "    df_max['target'],\n",
    "    c='r',\n",
    ")\n",
    "max_value = df_max['target'].iloc[0]\n",
    "max_light = df_max['light'].iloc[0]\n",
    "print(f'Max value = {max_value:.2E}\\nLight     = {max_light:.2E}')\n",
    "\n",
    "ax.set_xlabel('light')\n",
    "ax.set_ylabel('integral: $0 - 10^{-4}$')\n",
    "scal_form = ScalarFormatter(1)\n",
    "scal_form.set_powerlimits((0, 0.1))\n",
    "ax.xaxis.set_major_formatter(scal_form)"
   ]
  }
 ],
 "metadata": {
  "kernelspec": {
   "display_name": "Python 3.11.1 ('comsol_env': venv)",
   "language": "python",
   "name": "python3"
  },
  "language_info": {
   "codemirror_mode": {
    "name": "ipython",
    "version": 3
   },
   "file_extension": ".py",
   "mimetype": "text/x-python",
   "name": "python",
   "nbconvert_exporter": "python",
   "pygments_lexer": "ipython3",
   "version": "3.11.1"
  },
  "orig_nbformat": 4,
  "vscode": {
   "interpreter": {
    "hash": "cfc74b5112ba15cacff33bd9aeec3e307c41273b8b665299e3e0f715eb38eb42"
   }
  }
 },
 "nbformat": 4,
 "nbformat_minor": 2
}
