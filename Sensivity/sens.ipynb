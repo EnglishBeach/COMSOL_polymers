{
 "cells": [
  {
   "cell_type": "code",
   "execution_count": null,
   "metadata": {},
   "outputs": [],
   "source": []
  }
 ],
 "metadata": {
  "kernelspec": {
   "display_name": "Python 3.11.1 ('comsol_env': venv)",
   "language": "python",
   "name": "python3"
  },
  "language_info": {
   "name": "python",
   "version": "3.11.1"
  },
  "orig_nbformat": 4,
  "vscode": {
   "interpreter": {
    "hash": "b8d921f2627d5d88a9c2ac5fd82ef2eb845a79526b778fc4c62dbbd75d2685af"
   }
  }
 },
 "nbformat": 4,
 "nbformat_minor": 2
}
