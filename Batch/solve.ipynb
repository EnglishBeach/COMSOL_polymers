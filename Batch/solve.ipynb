{
 "cells": [
  {
   "cell_type": "code",
   "execution_count": 1,
   "metadata": {},
   "outputs": [],
   "source": [
    "import mph\n",
    "import re\n",
    "import numpy as np\n",
    "from scipy import integrate\n",
    "import pandas as pd\n",
    "import matplotlib.pyplot as plt"
   ]
  },
  {
   "cell_type": "code",
   "execution_count": 7,
   "metadata": {},
   "outputs": [],
   "source": [
    "from structure import Solve, db\n",
    "from tqdm import tqdm as _tqdm"
   ]
  },
  {
   "cell_type": "code",
   "execution_count": null,
   "metadata": {},
   "outputs": [],
   "source": [
    "from itertools import product"
   ]
  },
  {
   "cell_type": "code",
   "execution_count": 13,
   "metadata": {},
   "outputs": [],
   "source": [
    "import peewee"
   ]
  },
  {
   "cell_type": "code",
   "execution_count": 2,
   "metadata": {},
   "outputs": [],
   "source": [
    "client = mph.start()\n",
    "model = client.load('System_batch.mph')"
   ]
  },
  {
   "cell_type": "code",
   "execution_count": 3,
   "metadata": {},
   "outputs": [],
   "source": [
    "model.solve()"
   ]
  },
  {
   "cell_type": "code",
   "execution_count": 4,
   "metadata": {},
   "outputs": [
    {
     "data": {
      "text/plain": [
       "(array([ 1,  2,  3,  4,  5,  6,  7,  8,  9, 10, 11]),\n",
       " array([0.e+00, 1.e-05, 2.e-05, 3.e-05, 4.e-05, 5.e-05, 6.e-05, 7.e-05,\n",
       "        8.e-05, 9.e-05, 1.e-04]))"
      ]
     },
     "execution_count": 4,
     "metadata": {},
     "output_type": "execute_result"
    }
   ],
   "source": [
    "model.outer('Data')"
   ]
  },
  {
   "cell_type": "code",
   "execution_count": 5,
   "metadata": {},
   "outputs": [],
   "source": [
    "def evaluate_species(model: mph.Model, outer_number, comsol_dataset='Data'):\n",
    "    reaction_node = model / 'physics' / 'Reaction Engineering'\n",
    "    _reaction_node_children = [i.name() for i in reaction_node.children()]\n",
    "\n",
    "    species = re.findall(\n",
    "        string='\\n'.join(_reaction_node_children),\n",
    "        pattern='Species: (.*)',\n",
    "    )\n",
    "    species_concentration_names = ['reaction.c_' + specie for specie in species]\n",
    "    row_data = model.evaluate(\n",
    "        ['t'] + species_concentration_names,\n",
    "        dataset=comsol_dataset,\n",
    "        outer=outer_number,\n",
    "    )\n",
    "    return pd.DataFrame(row_data, columns=['Time'] + species)\n"
   ]
  },
  {
   "cell_type": "code",
   "execution_count": 6,
   "metadata": {},
   "outputs": [],
   "source": [
    "df = evaluate_species(model, 3)\n"
   ]
  },
  {
   "cell_type": "code",
   "execution_count": 8,
   "metadata": {},
   "outputs": [],
   "source": [
    "params = {\n",
    "    key: float(value)\n",
    "    for key,\n",
    "    value in model.parameters().items()\n",
    "    if 'light' not in key\n",
    "}\n",
    "params['light'] = 1.e-05\n"
   ]
  },
  {
   "cell_type": "code",
   "execution_count": 10,
   "metadata": {},
   "outputs": [],
   "source": [
    "def check(string):\n",
    "    if string is None:\n",
    "        while string != 'q':\n",
    "            string = input(f'Set {string=}, to quit - q:')\n",
    "            string = string.strip()\n",
    "    return string"
   ]
  },
  {
   "cell_type": "code",
   "execution_count": 22,
   "metadata": {},
   "outputs": [],
   "source": [
    "def model_parametrs(model: mph.Model, changed_params: dict = {}):\n",
    "    for key, value in changed_params.items():\n",
    "        model.parameter(name=key, value=value)\n",
    "    return model.parameters()"
   ]
  },
  {
   "cell_type": "code",
   "execution_count": 119,
   "metadata": {},
   "outputs": [
    {
     "name": "stdout",
     "output_type": "stream",
     "text": [
      "Ke = DecimalField(max_digits=20, decimal_places=5, default =0)\n",
      "KH = DecimalField(max_digits=20, decimal_places=5, default =0)\n",
      "Kr = DecimalField(max_digits=20, decimal_places=5, default =0)\n",
      "Kdisp = DecimalField(max_digits=20, decimal_places=5, default =0)\n",
      "KqH = DecimalField(max_digits=20, decimal_places=5, default =0)\n",
      "Ks = DecimalField(max_digits=20, decimal_places=5, default =0)\n",
      "Kd = DecimalField(max_digits=20, decimal_places=5, default =0)\n",
      "Kc = DecimalField(max_digits=20, decimal_places=5, default =0)\n",
      "Kp = DecimalField(max_digits=20, decimal_places=5, default =0)\n",
      "KrD = DecimalField(max_digits=20, decimal_places=5, default =0)\n",
      "Kph = DecimalField(max_digits=20, decimal_places=5, default =0)\n",
      "light = DecimalField(max_digits=20, decimal_places=5, default =0)\n"
     ]
    }
   ],
   "source": [
    "a = {\n",
    "    'Ke': 1000000000.0,\n",
    "    'KH': 1000000000.0,\n",
    "    'Kr': 1000000000.0,\n",
    "    'Kdisp': 1000000000.0,\n",
    "    'KqH': 2000.0,\n",
    "    'Ks': 2.0,\n",
    "    'Kd': 0.05,\n",
    "    'Kc': 1.0,\n",
    "    'Kp': 0.001,\n",
    "    'KrD': 1000000000.0,\n",
    "    'Kph': 1e-05,\n",
    "    'light': 1e-05,\n",
    "}\n",
    "a = list(a.keys())\n",
    "b = [\n",
    "    f\"{str(i)} = DecimalField(max_digits=20, decimal_places=5, default =0)\"\n",
    "    for i in a\n",
    "]\n",
    "\n",
    "string = '\\n'.join(b)\n",
    "print(string)"
   ]
  },
  {
   "cell_type": "code",
   "execution_count": null,
   "metadata": {},
   "outputs": [],
   "source": [
    "'(SELECT group_concat(DISTINCT a) FROM my_table) as a,'"
   ]
  },
  {
   "cell_type": "code",
   "execution_count": null,
   "metadata": {},
   "outputs": [],
   "source": [
    "SELECT \n",
    " \tGROUP_CONCAT(DISTINCT COLUMN_NAME SEPARATOR ', ')\n",
    "FROM \n",
    "\tinformation_schema.COLUMNS\n",
    "WHERE `TABLE_NAME`=N'solve'"
   ]
  },
  {
   "cell_type": "code",
   "execution_count": 102,
   "metadata": {},
   "outputs": [],
   "source": [
    "# TODO: logs\n",
    "def solves_to_sql(\n",
    "    model: mph.Model,\n",
    "    name,\n",
    "    desc=None,\n",
    "):\n",
    "    _, light_sweep = model.outer('Data')\n",
    "    i = 1\n",
    "    params = {\n",
    "        key: float(value)\n",
    "        for key,\n",
    "        value in model.parameters().items()\n",
    "        if 'light' not in key\n",
    "    }\n",
    "    params['name'] = name\n",
    "    params['desc'] = desc\n",
    "\n",
    "    notes = []\n",
    "    for light_value in light_sweep:\n",
    "        note = {}\n",
    "        note.update(params)\n",
    "        note['light'] = light_value\n",
    "        df = evaluate_species(model, i)\n",
    "        note['data'] = df.to_json(index=True)\n",
    "        notes.append(note)\n",
    "\n",
    "        i += 1\n",
    "\n",
    "    with db:\n",
    "        Solve.insert_many(notes).execute()\n",
    "\n",
    "\n",
    "def solve_to_sql(df, params: dict, name, desc=None):\n",
    "    note = params.copy()\n",
    "    note['name'] = name\n",
    "    note['desc'] = desc\n",
    "    note['data'] = df.to_json(index=True)\n",
    "    with db:\n",
    "        Solve.insert(note).execute()"
   ]
  },
  {
   "cell_type": "code",
   "execution_count": 16,
   "metadata": {},
   "outputs": [],
   "source": [
    "solves_to_sql(model=model, name='test_sweep')\n"
   ]
  },
  {
   "cell_type": "code",
   "execution_count": 19,
   "metadata": {},
   "outputs": [],
   "source": [
    "solve_to_sql(df, params=params, name='test', desc='test desc')\n"
   ]
  },
  {
   "cell_type": "code",
   "execution_count": 25,
   "metadata": {},
   "outputs": [
    {
     "data": {
      "text/plain": [
       "{'Ke': '1000000000',\n",
       " 'KH': '1000000000',\n",
       " 'Kr': '1000000000',\n",
       " 'Kdisp': '1000000000',\n",
       " 'KqH': '2000',\n",
       " 'Ks': '2',\n",
       " 'Kd': '0.05',\n",
       " 'Kc': '1',\n",
       " 'Kp': '0.001',\n",
       " 'KrD': '1000000000',\n",
       " 'Kph': '1E-05',\n",
       " 'light': '0.0001',\n",
       " 'light_start': '0',\n",
       " 'light_end': '1e-4',\n",
       " 'light_step': '1e-5'}"
      ]
     },
     "execution_count": 25,
     "metadata": {},
     "output_type": "execute_result"
    }
   ],
   "source": [
    "model_parametrs(model)"
   ]
  },
  {
   "cell_type": "code",
   "execution_count": 69,
   "metadata": {},
   "outputs": [],
   "source": [
    "def combinations_dict(diap: dict):\n",
    "    keys = list(diap.keys())\n",
    "    values = [diap[key] for key in keys]\n",
    "    combinations = list(product(*values))\n",
    "    result = [dict(zip(keys, comb)) for comb in combinations]\n",
    "    return result"
   ]
  },
  {
   "cell_type": "code",
   "execution_count": 87,
   "metadata": {},
   "outputs": [],
   "source": [
    "variative_params = combinations_dict({\n",
    "    'Ks':np.linspace(0.1,5.1,11).round(5),\n",
    "    'Kc':np.linspace(0.1,2.1,11).round(5),\n",
    "})"
   ]
  },
  {
   "cell_type": "code",
   "execution_count": 117,
   "metadata": {},
   "outputs": [],
   "source": [
    "def sweep(\n",
    "    model: mph.Model,\n",
    "    variable_params,\n",
    "    name=None,\n",
    "    desc=None,\n",
    "):\n",
    "    name = check(name)\n",
    "    desc = check(desc)\n",
    "\n",
    "    params_list = _tqdm(iterable=variable_params)\n",
    "\n",
    "    tqdm_lenth =20\n",
    "    i = 0\n",
    "    for changed_params in params_list:\n",
    "        model_parametrs(\n",
    "            model=model,\n",
    "            changed_params=changed_params,\n",
    "        )\n",
    "        model.clear()\n",
    "        params_list.set_description('{:10}'.format('Solving...'))\n",
    "        model.solve()\n",
    "        params_list.set_description('{:10}'.format('Saving...'))\n",
    "        solves_to_sql(\n",
    "            model=model,\n",
    "            name=name + f'_#{i}',\n",
    "            desc=desc,\n",
    "        )\n",
    "        i+=1\n"
   ]
  },
  {
   "cell_type": "code",
   "execution_count": 118,
   "metadata": {},
   "outputs": [
    {
     "name": "stderr",
     "output_type": "stream",
     "text": [
      "Saving... : 100%|██████████| 5/5 [01:06<00:00, 13.36s/it]\n"
     ]
    }
   ],
   "source": [
    "sweep(\n",
    "    model=model,\n",
    "    name='sweep',\n",
    "    desc='',\n",
    "    variable_params=variative_params[:5],\n",
    ")\n"
   ]
  }
 ],
 "metadata": {
  "kernelspec": {
   "display_name": "Python 3.11.1 ('comsol_env': venv)",
   "language": "python",
   "name": "python3"
  },
  "language_info": {
   "codemirror_mode": {
    "name": "ipython",
    "version": 3
   },
   "file_extension": ".py",
   "mimetype": "text/x-python",
   "name": "python",
   "nbconvert_exporter": "python",
   "pygments_lexer": "ipython3",
   "version": "3.11.1"
  },
  "orig_nbformat": 4,
  "vscode": {
   "interpreter": {
    "hash": "cfc74b5112ba15cacff33bd9aeec3e307c41273b8b665299e3e0f715eb38eb42"
   }
  }
 },
 "nbformat": 4,
 "nbformat_minor": 2
}
