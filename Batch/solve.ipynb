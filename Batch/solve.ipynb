{
 "cells": [
  {
   "cell_type": "code",
   "execution_count": 1,
   "metadata": {},
   "outputs": [
    {
     "name": "stdout",
     "output_type": "stream",
     "text": [
      "System_test\n",
      "├─ parameters\n",
      "│  └─ Rate constants\n",
      "├─ functions\n",
      "├─ components\n",
      "│  └─ Component \n",
      "├─ geometries\n",
      "├─ views\n",
      "│  └─ View 2D 1\n",
      "├─ selections\n",
      "├─ coordinates\n",
      "├─ variables\n",
      "├─ couplings\n",
      "├─ physics\n",
      "│  └─ Reaction Engineering\n",
      "│     ├─ Initial Values \n",
      "│     ├─ Species: Q\n",
      "│     ├─ Species: DH\n",
      "│     ├─ Species: Qm\n",
      "│     ├─ Species: DHp\n",
      "│     ├─ Species: QH\n",
      "│     ├─ Species: D\n",
      "│     ├─ Species: QHD\n",
      "│     ├─ Species: QHH\n",
      "│     ├─ Species: prod\n",
      "│     ├─ Species: QD\n",
      "│     ├─ Ke: Q + DH => Qm + DHp\n",
      "│     ├─ KH: Qm + DHp => QH + D\n",
      "│     ├─ Kr: QH + D => QHD\n",
      "│     ├─ Kp: QHD =>QHH + prod\n",
      "│     ├─ KqH//Kdisp: Q + QHH <=> 2 QH\n",
      "│     ├─ Kph: Q => prod\n",
      "│     ├─ Ks: Q + QHD =>QH + QD\n",
      "│     ├─ Kd//Kc: QD <=>Q + D\n",
      "│     └─ KrD: 2 D => prod\n",
      "├─ multiphysics\n",
      "├─ materials\n",
      "├─ meshes\n",
      "├─ studies\n",
      "│  └─ Study control\n",
      "│     ├─ Parametric Sweep\n",
      "│     └─ Time Dependent\n",
      "├─ solutions\n",
      "│  ├─ Solution 1\n",
      "│  │  ├─ Compile Equations: Time Dependent\n",
      "│  │  ├─ Dependent Variables 1\n",
      "│  │  │  ├─ Concentration (comp.ODE1)\n",
      "│  │  │  ├─ Concentration (comp.ODE2)\n",
      "│  │  │  ├─ Concentration (comp.ODE3)\n",
      "│  │  │  ├─ Concentration (comp.ODE4)\n",
      "│  │  │  ├─ Concentration (comp.ODE5)\n",
      "│  │  │  ├─ Concentration (comp.ODE6)\n",
      "│  │  │  ├─ Concentration (comp.ODE7)\n",
      "│  │  │  ├─ Concentration (comp.ODE8)\n",
      "│  │  │  ├─ Concentration (comp.ODE9)\n",
      "│  │  │  └─ Concentration (comp.ODE10)\n",
      "│  │  └─ Time-Dependent Solver 1\n",
      "│  │     ├─ Direct\n",
      "│  │     ├─ Advanced\n",
      "│  │     └─ Fully Coupled 1\n",
      "│  ├─ Parametric Solutions 1\n",
      "│  │  └─ light=0\n",
      "│  └─ light=0\n",
      "├─ batches\n",
      "│  └─ Parametric Sweep 1\n",
      "│     └─ Solution 1, Parametric Solutions 1\n",
      "├─ datasets\n",
      "│  ├─ Study control//Solution 1\n",
      "│  └─ Study control//Parametric Solutions 1\n",
      "├─ evaluations\n",
      "├─ tables\n",
      "├─ plots\n",
      "│  ├─ Concentration stable\n",
      "│  │  └─ Global 1\n",
      "│  ├─ Concentration radicals\n",
      "│  │  └─ Global 1\n",
      "│  └─ Concentration D\n",
      "│     └─ Global 1\n",
      "└─ exports\n"
     ]
    }
   ],
   "source": [
    "import mph\n",
    "\n",
    "client = mph.start()\n",
    "model = client.load('System_test.mph')\n",
    "mph.tree(model)"
   ]
  },
  {
   "cell_type": "code",
   "execution_count": 44,
   "metadata": {},
   "outputs": [
    {
     "data": {
      "text/plain": [
       "{}"
      ]
     },
     "execution_count": 44,
     "metadata": {},
     "output_type": "execute_result"
    }
   ],
   "source": [
    "reactions = model / 'physics' / 'Reaction Engineering' \n",
    "reactions.properties()"
   ]
  },
  {
   "cell_type": "code",
   "execution_count": 3,
   "metadata": {},
   "outputs": [],
   "source": [
    "eval_group = model / 'evaluations'\n",
    "# eval_group."
   ]
  },
  {
   "cell_type": "code",
   "execution_count": 4,
   "metadata": {},
   "outputs": [
    {
     "data": {
      "text/plain": [
       "['Study control']"
      ]
     },
     "execution_count": 4,
     "metadata": {},
     "output_type": "execute_result"
    }
   ],
   "source": [
    "model.studies()"
   ]
  },
  {
   "cell_type": "code",
   "execution_count": 5,
   "metadata": {},
   "outputs": [
    {
     "data": {
      "text/plain": [
       "[Node('studies/Study control/Parametric Sweep'),\n",
       " Node('studies/Study control/Time Dependent')]"
      ]
     },
     "execution_count": 5,
     "metadata": {},
     "output_type": "execute_result"
    }
   ],
   "source": [
    "study = model / 'studies' / 'Study control'\n",
    "study.children()"
   ]
  },
  {
   "cell_type": "code",
   "execution_count": 6,
   "metadata": {},
   "outputs": [],
   "source": [
    "sweep = study / 'Parametric Sweep'\n",
    "sweep.toggle(action='off')"
   ]
  },
  {
   "cell_type": "code",
   "execution_count": 7,
   "metadata": {},
   "outputs": [
    {
     "name": "stdout",
     "output_type": "stream",
     "text": [
      "System_test\n",
      "├─ parameters\n",
      "│  └─ Rate constants\n",
      "├─ functions\n",
      "├─ components\n",
      "│  └─ Component \n",
      "├─ geometries\n",
      "├─ views\n",
      "│  └─ View 2D 1\n",
      "├─ selections\n",
      "├─ coordinates\n",
      "├─ variables\n",
      "├─ couplings\n",
      "├─ physics\n",
      "│  └─ Reaction Engineering\n",
      "│     ├─ Initial Values \n",
      "│     ├─ Species: Q\n",
      "│     ├─ Species: DH\n",
      "│     ├─ Species: Qm\n",
      "│     ├─ Species: DHp\n",
      "│     ├─ Species: QH\n",
      "│     ├─ Species: D\n",
      "│     ├─ Species: QHD\n",
      "│     ├─ Species: QHH\n",
      "│     ├─ Species: prod\n",
      "│     ├─ Species: QD\n",
      "│     ├─ Ke: Q + DH => Qm + DHp\n",
      "│     ├─ KH: Qm + DHp => QH + D\n",
      "│     ├─ Kr: QH + D => QHD\n",
      "│     ├─ Kp: QHD =>QHH + prod\n",
      "│     ├─ KqH//Kdisp: Q + QHH <=> 2 QH\n",
      "│     ├─ Kph: Q => prod\n",
      "│     ├─ Ks: Q + QHD =>QH + QD\n",
      "│     ├─ Kd//Kc: QD <=>Q + D\n",
      "│     └─ KrD: 2 D => prod\n",
      "├─ multiphysics\n",
      "├─ materials\n",
      "├─ meshes\n",
      "├─ studies\n",
      "│  └─ Study control\n",
      "│     ├─ Parametric Sweep\n",
      "│     └─ Time Dependent\n",
      "├─ solutions\n",
      "│  ├─ Solution 1\n",
      "│  │  ├─ Compile Equations: Time Dependent\n",
      "│  │  ├─ Dependent Variables 1\n",
      "│  │  │  ├─ Concentration (comp.ODE1)\n",
      "│  │  │  ├─ Concentration (comp.ODE2)\n",
      "│  │  │  ├─ Concentration (comp.ODE3)\n",
      "│  │  │  ├─ Concentration (comp.ODE4)\n",
      "│  │  │  ├─ Concentration (comp.ODE5)\n",
      "│  │  │  ├─ Concentration (comp.ODE6)\n",
      "│  │  │  ├─ Concentration (comp.ODE7)\n",
      "│  │  │  ├─ Concentration (comp.ODE8)\n",
      "│  │  │  ├─ Concentration (comp.ODE9)\n",
      "│  │  │  └─ Concentration (comp.ODE10)\n",
      "│  │  └─ Time-Dependent Solver 1\n",
      "│  │     ├─ Direct\n",
      "│  │     ├─ Advanced\n",
      "│  │     └─ Fully Coupled 1\n",
      "│  ├─ Parametric Solutions 1\n",
      "│  │  └─ light=0\n",
      "│  └─ light=0\n",
      "├─ batches\n",
      "│  └─ Parametric Sweep 1\n",
      "│     └─ Solution 1, Parametric Solutions 1\n",
      "├─ datasets\n",
      "│  ├─ Study control//Solution 1\n",
      "│  └─ Study control//Parametric Solutions 1\n",
      "├─ evaluations\n",
      "├─ tables\n",
      "├─ plots\n",
      "│  ├─ Concentration stable\n",
      "│  │  └─ Global 1\n",
      "│  ├─ Concentration radicals\n",
      "│  │  └─ Global 1\n",
      "│  └─ Concentration D\n",
      "│     └─ Global 1\n",
      "└─ exports\n"
     ]
    }
   ],
   "source": [
    "mph.tree(model)"
   ]
  },
  {
   "cell_type": "code",
   "execution_count": 8,
   "metadata": {},
   "outputs": [
    {
     "data": {
      "text/plain": [
       "{'accumtable': 'new',\n",
       " 'accumtableall': True,\n",
       " 'clearprevrom': False,\n",
       " 'defsolvergen': 'global',\n",
       " 'filename': WindowsPath('C:/Users/STRANGER/Documents/param.mph'),\n",
       " 'keepgenrom': False,\n",
       " 'keeprom': 'off',\n",
       " 'keepsol': 'all',\n",
       " 'loadFile': None,\n",
       " 'outputhide': 'off',\n",
       " 'paramselect': 'off',\n",
       " 'pdistrib': False,\n",
       " 'plist': array([], dtype=float64),\n",
       " 'plistarr': array([[0.0, 1e-05, 2e-05, 3.0000000000000004e-05, 4e-05, 5e-05,\n",
       "         6.000000000000001e-05, 7.000000000000001e-05, 8e-05, 9e-05,\n",
       "         0.0001]], dtype=object),\n",
       " 'plistarrexcelcalculatedvalues': False,\n",
       " 'plistarrexcelfilename': None,\n",
       " 'plistarrexcelincludeheaders': False,\n",
       " 'plistarrexceloverwrite': True,\n",
       " 'plistarrexcelrange': None,\n",
       " 'plistarrexcelseparateunits': False,\n",
       " 'plistarrexcelsheet': None,\n",
       " 'plot': 'off',\n",
       " 'plotgroup': 'pg1',\n",
       " 'pname': ['light'],\n",
       " 'probes': [],\n",
       " 'probesel': 'none',\n",
       " 'punit': [''],\n",
       " 'reusesol': False,\n",
       " 'romtagsuffix': 'parnameval',\n",
       " 'save': 'off',\n",
       " 'saveFile': None,\n",
       " 'sweeptype': 'filled',\n",
       " 'switchcase': [],\n",
       " 'switchlistarr': array([], dtype=object),\n",
       " 'switchlistarr_vector_freqperdec': [],\n",
       " 'switchlistarr_vector_function': [],\n",
       " 'switchlistarr_vector_interval': ['octave'],\n",
       " 'switchlistarr_vector_method': [],\n",
       " 'switchlistarr_vector_numvalues': [],\n",
       " 'switchlistarr_vector_start': [],\n",
       " 'switchlistarr_vector_step': [],\n",
       " 'switchlistarr_vector_stop': [],\n",
       " 'switchname': [],\n",
       " 'useaccumtable': 'off'}"
      ]
     },
     "execution_count": 8,
     "metadata": {},
     "output_type": "execute_result"
    }
   ],
   "source": [
    "sweep.properties()"
   ]
  },
  {
   "cell_type": "code",
   "execution_count": 9,
   "metadata": {},
   "outputs": [],
   "source": [
    "model.solve()"
   ]
  },
  {
   "cell_type": "code",
   "execution_count": 27,
   "metadata": {},
   "outputs": [],
   "source": [
    "a = model.evaluate(['t', 'reaction.c_Q'])\n"
   ]
  },
  {
   "cell_type": "code",
   "execution_count": 11,
   "metadata": {},
   "outputs": [],
   "source": [
    "import matplotlib.pyplot as plt"
   ]
  },
  {
   "cell_type": "code",
   "execution_count": 28,
   "metadata": {},
   "outputs": [
    {
     "data": {
      "text/plain": [
       "[<matplotlib.lines.Line2D at 0x1ee9bfb6c10>]"
      ]
     },
     "execution_count": 28,
     "metadata": {},
     "output_type": "execute_result"
    },
    {
     "data": {
      "image/png": "[encoded data removed]",
      "text/plain": [
       "<Figure size 640x480 with 1 Axes>"
      ]
     },
     "metadata": {},
     "output_type": "display_data"
    }
   ],
   "source": [
    "plt.plot(a[:, 0], a[:, 1])\n"
   ]
  },
  {
   "cell_type": "code",
   "execution_count": 19,
   "metadata": {},
   "outputs": [],
   "source": [
    "from scipy import integrate\n",
    "import numpy as np"
   ]
  },
  {
   "cell_type": "code",
   "execution_count": 29,
   "metadata": {},
   "outputs": [
    {
     "data": {
      "text/plain": [
       "4.373721483118488e-05"
      ]
     },
     "execution_count": 29,
     "metadata": {},
     "output_type": "execute_result"
    }
   ],
   "source": [
    "x, y = a[:, 0], a[:, 1]\n",
    "mask  =x<1e-4\n",
    "x= x[mask]\n",
    "y= y[mask]\n",
    "integrate.simps(y,x,even='avg')"
   ]
  },
  {
   "cell_type": "code",
   "execution_count": 38,
   "metadata": {},
   "outputs": [
    {
     "data": {
      "text/plain": [
       "484.14021815112284"
      ]
     },
     "execution_count": 38,
     "metadata": {},
     "output_type": "execute_result"
    }
   ],
   "source": [
    "integrate.simps(y)"
   ]
  },
  {
   "cell_type": "code",
   "execution_count": 32,
   "metadata": {},
   "outputs": [],
   "source": [
    "c= [\n",
    "    integrate.simps(y[:i],x[:i],even='avg')\n",
    "    for i in range (1,len(x)+1)\n",
    "]"
   ]
  },
  {
   "cell_type": "code",
   "execution_count": 34,
   "metadata": {},
   "outputs": [
    {
     "data": {
      "text/plain": [
       "[<matplotlib.lines.Line2D at 0x1ee9c30cdd0>]"
      ]
     },
     "execution_count": 34,
     "metadata": {},
     "output_type": "execute_result"
    },
    {
     "data": {
      "image/png": "[encoded data removed]",
      "text/plain": [
       "<Figure size 640x480 with 1 Axes>"
      ]
     },
     "metadata": {},
     "output_type": "display_data"
    }
   ],
   "source": [
    "plt.plot(x,c)"
   ]
  },
  {
   "cell_type": "code",
   "execution_count": 43,
   "metadata": {},
   "outputs": [
    {
     "name": "stdout",
     "output_type": "stream",
     "text": [
      "[[0.00000000e+00 0.00000000e+00]\n",
      " [1.95312500e-10 1.95310593e-10]\n",
      " [3.40469848e-10 3.40464053e-10]\n",
      " ...\n",
      " [9.82720760e-05 4.32385524e-05]\n",
      " [9.90095421e-05 4.34879691e-05]\n",
      " [9.97470083e-05 4.37372148e-05]]\n"
     ]
    }
   ],
   "source": [
    "print(np.stack((x,c)).T)"
   ]
  },
  {
   "cell_type": "code",
   "execution_count": 14,
   "metadata": {},
   "outputs": [],
   "source": [
    "b = model.evaluate(['t', 'timeint(0, 1e-4,reaction.c_Q)'])\n"
   ]
  },
  {
   "cell_type": "code",
   "execution_count": 50,
   "metadata": {},
   "outputs": [],
   "source": [
    "d = reactions.children()"
   ]
  },
  {
   "cell_type": "code",
   "execution_count": 52,
   "metadata": {},
   "outputs": [],
   "source": [
    "d_list =[i.name() for i in d ]"
   ]
  },
  {
   "cell_type": "code",
   "execution_count": 53,
   "metadata": {},
   "outputs": [],
   "source": [
    "import re"
   ]
  },
  {
   "cell_type": "code",
   "execution_count": 55,
   "metadata": {},
   "outputs": [],
   "source": [
    "species = re.findall(string='\\n'.join(d_list),pattern='Species: (.*)' )"
   ]
  }
 ],
 "metadata": {
  "kernelspec": {
   "display_name": "Python 3.11.1 ('comsol_env': venv)",
   "language": "python",
   "name": "python3"
  },
  "language_info": {
   "codemirror_mode": {
    "name": "ipython",
    "version": 3
   },
   "file_extension": ".py",
   "mimetype": "text/x-python",
   "name": "python",
   "nbconvert_exporter": "python",
   "pygments_lexer": "ipython3",
   "version": "3.11.1"
  },
  "orig_nbformat": 4,
  "vscode": {
   "interpreter": {
    "hash": "cfc74b5112ba15cacff33bd9aeec3e307c41273b8b665299e3e0f715eb38eb42"
   }
  }
 },
 "nbformat": 4,
 "nbformat_minor": 2
}
