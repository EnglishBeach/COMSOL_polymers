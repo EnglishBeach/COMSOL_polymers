{
 "cells": [
  {
   "cell_type": "code",
   "execution_count": 1,
   "metadata": {},
   "outputs": [],
   "source": [
    "import numpy as np\n",
    "import shutil\n",
    "import os"
   ]
  },
  {
   "cell_type": "code",
   "execution_count": 13,
   "metadata": {},
   "outputs": [],
   "source": [
    "data ={\n",
    "        'Ke': 1000000000,\n",
    "        'KH': 1000000000,\n",
    "        'Kr': 1000000000,\n",
    "        'Kdisp': 1000000000,\n",
    "        'KqH': 2000,\n",
    "        'Ks': 3,\n",
    "        'Kd': 0.05,\n",
    "        'Kc': 1,\n",
    "        'Kp': 0.001,\n",
    "        'KrD': 1000000000,\n",
    "        'Kph': 1E-05,\n",
    "        'light': 0.0001,\n",
    "    }\n"
   ]
  },
  {
   "cell_type": "code",
   "execution_count": 14,
   "metadata": {},
   "outputs": [],
   "source": [
    "# data.update(dict(name='test1',desc='test1'))"
   ]
  },
  {
   "cell_type": "code",
   "execution_count": 20,
   "metadata": {},
   "outputs": [],
   "source": [
    "class Solver:\n",
    "    task_path = 'D:\\\\Works\\\\COMSOL_polymers\\\\Batch'\n",
    "\n",
    "    def __init__(self,name, data: dict) -> None:\n",
    "        # self.name = data['name']\n",
    "        self.data= data\n",
    "        self.name=name\n",
    "\n",
    "    def save_data(self):\n",
    "        solves_path = self.task_path + '\\\\Solves\\\\'\n",
    "        try:\n",
    "            shutil.rmtree(solves_path + self.name)\n",
    "        except:\n",
    "            pass\n",
    "        if not os.path.isdir(solves_path + self.name):\n",
    "            os.mkdir(solves_path + self.name)\n",
    "\n",
    "        with open(solves_path + self.name + '\\\\params.csv', 'w+') as file:\n",
    "            keys = list(self.data.keys())\n",
    "            file.writelines(' '.join([key for key in keys]) + '\\n')\n",
    "            if isinstance(self.data[keys[0]], tuple|list):\n",
    "                for i in range(len(self.data[keys[0]])):\n",
    "                    file.writelines(\n",
    "                        ' '.join([str(self.data[key]) for key in keys]) + '\\n', )\n",
    "            else:\n",
    "                file.writelines(\n",
    "                    ' '.join([str(self.data[key]) for key in keys]) + '\\n', )\n",
    "\n",
    "    def solve(self):\n",
    "        cd_command = 'cd ' + self.task_path\n",
    "        os.system(cd_command)\n",
    "        # print(cd_command)\n",
    "        params_path = 'Solves\\\\' + self.name + '\\\\params.csv'\n",
    "        solve_command = f'comsolbatch -inputfile System_batch.mph -paramfile {params_path} -methodcall solve_full -nosave -batchlog system_batch.log'\n",
    "        os.system(solve_command)\n",
    "        # print(solve_command)\n"
   ]
  },
  {
   "cell_type": "code",
   "execution_count": 21,
   "metadata": {},
   "outputs": [],
   "source": [
    "a =Solver('test2',data)\n",
    "a.save_data()"
   ]
  },
  {
   "cell_type": "code",
   "execution_count": 22,
   "metadata": {},
   "outputs": [],
   "source": [
    "a.solve()"
   ]
  }
 ],
 "metadata": {
  "kernelspec": {
   "display_name": "Python 3.11.1 ('comsol_env': venv)",
   "language": "python",
   "name": "python3"
  },
  "language_info": {
   "codemirror_mode": {
    "name": "ipython",
    "version": 3
   },
   "file_extension": ".py",
   "mimetype": "text/x-python",
   "name": "python",
   "nbconvert_exporter": "python",
   "pygments_lexer": "ipython3",
   "version": "3.11.1"
  },
  "orig_nbformat": 4,
  "vscode": {
   "interpreter": {
    "hash": "b8d921f2627d5d88a9c2ac5fd82ef2eb845a79526b778fc4c62dbbd75d2685af"
   }
  }
 },
 "nbformat": 4,
 "nbformat_minor": 2
}
