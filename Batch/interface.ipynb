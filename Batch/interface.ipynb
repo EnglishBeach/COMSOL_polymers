{
 "cells": [
  {
   "cell_type": "code",
   "execution_count": 1,
   "metadata": {},
   "outputs": [],
   "source": [
    "import mph\n",
    "import re\n",
    "import numpy as np\n",
    "from scipy import integrate\n",
    "import pandas as pd\n",
    "import matplotlib.pyplot as plt\n",
    "from structure import Solve, db\n",
    "from tqdm import tqdm as _tqdm\n",
    "from itertools import product\n",
    "import peewee\n",
    "\n",
    "from solver import (\n",
    "    combinations_dict,\n",
    "    evaluate_species,\n",
    "    sweep,\n",
    "    get_solves,\n",
    "    solve_to_sql,\n",
    "    solves_to_sql,\n",
    "    model_parametrs,\n",
    "    check\n",
    ")\n"
   ]
  },
  {
   "cell_type": "code",
   "execution_count": 3,
   "metadata": {},
   "outputs": [],
   "source": [
    "client = mph.start()\n",
    "model = client.load('System_batch.mph')"
   ]
  },
  {
   "cell_type": "code",
   "execution_count": 4,
   "metadata": {},
   "outputs": [],
   "source": [
    "variative_params = combinations_dict({\n",
    "    'Ks':np.linspace(0.1,5.1,11).round(5),\n",
    "    'Kc':np.linspace(0.1,2.1,11).round(5),\n",
    "})"
   ]
  },
  {
   "cell_type": "code",
   "execution_count": 5,
   "metadata": {},
   "outputs": [
    {
     "data": {
      "text/plain": [
       "{'Ke': '1000000000',\n",
       " 'KH': '1000000000',\n",
       " 'Kr': '1000000000',\n",
       " 'Kdisp': '1000000000',\n",
       " 'KqH': '2000',\n",
       " 'Ks': '2',\n",
       " 'Kd': '0.05',\n",
       " 'Kc': '1',\n",
       " 'Kp': '0.001',\n",
       " 'KrD': '1000000000',\n",
       " 'Kph': '1E-05',\n",
       " 'light': '0.0001',\n",
       " 'light_start': '0',\n",
       " 'light_end': '5e-4',\n",
       " 'light_step': '1e-5'}"
      ]
     },
     "execution_count": 5,
     "metadata": {},
     "output_type": "execute_result"
    }
   ],
   "source": [
    "model_parametrs(model, {\n",
    "    'light_start': '0',\n",
    "    'light_end': '5e-4',\n",
    "})\n",
    "model_parametrs(model)"
   ]
  },
  {
   "cell_type": "code",
   "execution_count": 6,
   "metadata": {},
   "outputs": [
    {
     "name": "stderr",
     "output_type": "stream",
     "text": [
      "Saving... : 100%|██████████| 2/2 [02:34<00:00, 77.31s/it]\n"
     ]
    },
    {
     "data": {
      "text/plain": [
       "True"
      ]
     },
     "execution_count": 6,
     "metadata": {},
     "output_type": "execute_result"
    }
   ],
   "source": [
    "db.connect()\n",
    "sweep(\n",
    "    model=model,\n",
    "    name='sweep',\n",
    "    desc='',\n",
    "    variable_params=variative_params[:2],\n",
    ")\n",
    "db.close()"
   ]
  }
 ],
 "metadata": {
  "kernelspec": {
   "display_name": "Python 3.11.1 ('comsol_env': venv)",
   "language": "python",
   "name": "python3"
  },
  "language_info": {
   "codemirror_mode": {
    "name": "ipython",
    "version": 3
   },
   "file_extension": ".py",
   "mimetype": "text/x-python",
   "name": "python",
   "nbconvert_exporter": "python",
   "pygments_lexer": "ipython3",
   "version": "3.11.1"
  },
  "orig_nbformat": 4,
  "vscode": {
   "interpreter": {
    "hash": "cfc74b5112ba15cacff33bd9aeec3e307c41273b8b665299e3e0f715eb38eb42"
   }
  }
 },
 "nbformat": 4,
 "nbformat_minor": 2
}
