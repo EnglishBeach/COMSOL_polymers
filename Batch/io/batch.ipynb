{
 "cells": [
  {
   "cell_type": "code",
   "execution_count": 1,
   "metadata": {},
   "outputs": [],
   "source": [
    "import numpy as np\n",
    "import shutil\n",
    "import os\n",
    "import pandas as pd"
   ]
  },
  {
   "cell_type": "code",
   "execution_count": 2,
   "metadata": {},
   "outputs": [],
   "source": [
    "data = {\n",
    "    'name': 'test1',\n",
    "    'desc': 'desc1',\n",
    "    'Ke': 1000000000,\n",
    "    'KH': 1000000000,\n",
    "    'Kr': 1000000000,\n",
    "    'Kdisp': 1000000000,\n",
    "    'KqH': 2000,\n",
    "    'Ks': 3,\n",
    "    'Kd': 0.05,\n",
    "    'Kc': 1,\n",
    "    'Kp': 0.001,\n",
    "    'KrD': 1000000000,\n",
    "    'Kph': 1E-05,\n",
    "}\n"
   ]
  },
  {
   "cell_type": "code",
   "execution_count": 23,
   "metadata": {},
   "outputs": [],
   "source": [
    "def solve(data_full):\n",
    "    data = dict(data_full)\n",
    "    data.pop('name')\n",
    "    data.pop('desc')\n",
    "    keys = list(data.keys())\n",
    "    with open('params.csv', 'w+') as file:\n",
    "        file.writelines(' '.join([key for key in keys]) + '\\n')\n",
    "        if isinstance(data[keys[0]], tuple|list):\n",
    "            for i in range(len(data[keys[0]])):\n",
    "                file.writelines(\n",
    "                    ' '.join([str(data[key]) for key in keys]) + '\\n', )\n",
    "        else:\n",
    "            file.writelines(' '.join([str(data[key]) for key in keys]) + '\\n', )\n",
    "\n",
    "    os.chdir('D:\\\\Works\\\\COMSOL_polymers\\\\Batch')\n",
    "    solve_command = f'comsolbatch -inputfile System_batch.mph -paramfile io\\\\params.csv -methodcall solve_full -nosave -batchlog system_batch.log'\n",
    "    os.system(solve_command)\n"
   ]
  },
  {
   "cell_type": "code",
   "execution_count": 24,
   "metadata": {},
   "outputs": [],
   "source": [
    "solve(data)"
   ]
  },
  {
   "cell_type": "code",
   "execution_count": 84,
   "metadata": {},
   "outputs": [],
   "source": [
    "def df_from_comsol(name):\n",
    "    with open(name, 'r') as file:\n",
    "        lines = file.readlines()\n",
    "    lines = lines[4:]\n",
    "\n",
    "    lines[:] = (line.replace('\\n','') for line in lines[:])\n",
    "    lines[0] = lines[0].replace('% ','')\n",
    "\n",
    "    # pd.DataFrame( lines[1:],columns=lines[0])\n",
    "    data = [line.split(',') for line in lines]\n",
    "    return pd.DataFrame(data=data[1:],columns=data[0]).astype(float)\n",
    "    "
   ]
  },
  {
   "cell_type": "code",
   "execution_count": 85,
   "metadata": {},
   "outputs": [],
   "source": [
    "a= df_from_comsol('Data.csv')\n",
    "a.info()"
   ]
  }
 ],
 "metadata": {
  "kernelspec": {
   "display_name": "Python 3.11.1 ('comsol_env': venv)",
   "language": "python",
   "name": "python3"
  },
  "language_info": {
   "codemirror_mode": {
    "name": "ipython",
    "version": 3
   },
   "file_extension": ".py",
   "mimetype": "text/x-python",
   "name": "python",
   "nbconvert_exporter": "python",
   "pygments_lexer": "ipython3",
   "version": "3.11.1"
  },
  "orig_nbformat": 4,
  "vscode": {
   "interpreter": {
    "hash": "b8d921f2627d5d88a9c2ac5fd82ef2eb845a79526b778fc4c62dbbd75d2685af"
   }
  }
 },
 "nbformat": 4,
 "nbformat_minor": 2
}
