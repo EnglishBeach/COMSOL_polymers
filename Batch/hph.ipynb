{
 "cells": [
  {
   "cell_type": "code",
   "execution_count": 1,
   "metadata": {},
   "outputs": [],
   "source": [
    "import mph"
   ]
  },
  {
   "cell_type": "code",
   "execution_count": 2,
   "metadata": {},
   "outputs": [],
   "source": [
    "client= mph.start()"
   ]
  },
  {
   "cell_type": "code",
   "execution_count": 15,
   "metadata": {},
   "outputs": [],
   "source": [
    "model = client.load('System_test.mph')"
   ]
  },
  {
   "cell_type": "code",
   "execution_count": 64,
   "metadata": {},
   "outputs": [
    {
     "name": "stdout",
     "output_type": "stream",
     "text": [
      "System_test\n",
      "├─ parameters\n",
      "│  └─ Rate constants\n",
      "├─ functions\n",
      "├─ components\n",
      "│  └─ Component \n",
      "├─ geometries\n",
      "├─ views\n",
      "│  └─ View 2D 1\n",
      "├─ selections\n",
      "├─ coordinates\n",
      "├─ variables\n",
      "├─ couplings\n",
      "├─ physics\n",
      "│  └─ Reaction Engineering\n",
      "│     ├─ Initial Values \n",
      "│     ├─ Species: Q\n",
      "│     ├─ Species: DH\n",
      "│     ├─ Species: Qm\n",
      "│     ├─ Species: DHp\n",
      "│     ├─ Species: QH\n",
      "│     ├─ Species: D\n",
      "│     ├─ Species: QHD\n",
      "│     ├─ Species: QHH\n",
      "│     ├─ Species: prod\n",
      "│     ├─ Species: QD\n",
      "│     ├─ Ke: Q + DH => Qm + DHp\n",
      "│     ├─ KH: Qm + DHp => QH + D\n",
      "│     ├─ Kr: QH + D => QHD\n",
      "│     ├─ Kp: QHD =>QHH + prod\n",
      "│     ├─ KqH//Kdisp: Q + QHH <=> 2 QH\n",
      "│     ├─ Kph: Q => prod\n",
      "│     ├─ Ks: Q + QHD =>QH + QD\n",
      "│     ├─ Kd//Kc: QD <=>Q + D\n",
      "│     └─ KrD: 2 D => prod\n",
      "├─ multiphysics\n",
      "├─ materials\n",
      "├─ meshes\n",
      "├─ studies\n",
      "│  └─ Study control\n",
      "│     ├─ Parametric Sweep\n",
      "│     └─ Time Dependent\n",
      "├─ solutions\n",
      "│  ├─ Solution 1\n",
      "│  │  ├─ Compile Equations: Time Dependent\n",
      "│  │  ├─ Dependent Variables 1\n",
      "│  │  │  ├─ Concentration (comp.ODE1)\n",
      "│  │  │  ├─ Concentration (comp.ODE2)\n",
      "│  │  │  ├─ Concentration (comp.ODE3)\n",
      "│  │  │  ├─ Concentration (comp.ODE4)\n",
      "│  │  │  ├─ Concentration (comp.ODE5)\n",
      "│  │  │  ├─ Concentration (comp.ODE6)\n",
      "│  │  │  ├─ Concentration (comp.ODE7)\n",
      "│  │  │  ├─ Concentration (comp.ODE8)\n",
      "│  │  │  ├─ Concentration (comp.ODE9)\n",
      "│  │  │  └─ Concentration (comp.ODE10)\n",
      "│  │  └─ Time-Dependent Solver 1\n",
      "│  │     ├─ Direct\n",
      "│  │     ├─ Advanced\n",
      "│  │     └─ Fully Coupled 1\n",
      "│  ├─ Parametric Solutions 1\n",
      "│  │  └─ light=0\n",
      "│  └─ light=0\n",
      "├─ batches\n",
      "│  └─ Parametric Sweep 1\n",
      "│     └─ Solution 1, Parametric Solutions 1\n",
      "├─ datasets\n",
      "│  ├─ Study control//Solution 1\n",
      "│  └─ Study control//Parametric Solutions 1\n",
      "├─ evaluations\n",
      "├─ tables\n",
      "├─ plots\n",
      "│  ├─ Concentration stable\n",
      "│  │  └─ Global 1\n",
      "│  ├─ Concentration radicals\n",
      "│  │  └─ Global 1\n",
      "│  └─ Concentration D\n",
      "│     └─ Global 1\n",
      "└─ exports\n"
     ]
    }
   ],
   "source": [
    "mph.tree(model)"
   ]
  },
  {
   "cell_type": "code",
   "execution_count": 72,
   "metadata": {},
   "outputs": [],
   "source": [
    "# a = model/'solutions'/'Solution 1'/'Time-Dependent Solver 1'/'Direct'\n",
    "a= model/'evaluations'"
   ]
  },
  {
   "cell_type": "code",
   "execution_count": 73,
   "metadata": {},
   "outputs": [
    {
     "name": "stdout",
     "output_type": "stream",
     "text": [
      "evaluations\n"
     ]
    }
   ],
   "source": [
    "mph.tree(a)"
   ]
  },
  {
   "cell_type": "code",
   "execution_count": 74,
   "metadata": {},
   "outputs": [
    {
     "data": {
      "text/plain": [
       "True"
      ]
     },
     "execution_count": 74,
     "metadata": {},
     "output_type": "execute_result"
    }
   ],
   "source": [
    "a.is_group()"
   ]
  },
  {
   "cell_type": "code",
   "execution_count": 84,
   "metadata": {},
   "outputs": [
    {
     "data": {
      "text/plain": [
       "Node('evaluations')"
      ]
     },
     "execution_count": 84,
     "metadata": {},
     "output_type": "execute_result"
    }
   ],
   "source": [
    "a"
   ]
  },
  {
   "cell_type": "code",
   "execution_count": 63,
   "metadata": {},
   "outputs": [
    {
     "ename": "java.lang.ArrayIndexOutOfBoundsException",
     "evalue": "java.lang.ArrayIndexOutOfBoundsException: Index 1 out of bounds for length 1",
     "output_type": "error",
     "traceback": [
      "\u001b[1;31m---------------------------------------------------------------------------\u001b[0m",
      "\u001b[1;31mException\u001b[0m                                 Traceback (most recent call last)",
      "File \u001b[1;32mSourceFile:339\u001b[0m, in \u001b[0;36mcom.comsol.model.impl.SolutionInfoImpl.getPvals\u001b[1;34m()\u001b[0m\n",
      "\u001b[1;31mException\u001b[0m: Java Exception",
      "\nThe above exception was the direct cause of the following exception:\n",
      "\u001b[1;31mjava.lang.ArrayIndexOutOfBoundsException\u001b[0m  Traceback (most recent call last)",
      "Cell \u001b[1;32mIn[63], line 1\u001b[0m\n\u001b[1;32m----> 1\u001b[0m model\u001b[39m.\u001b[39;49mouter(dataset\u001b[39m=\u001b[39;49m\u001b[39m'\u001b[39;49m\u001b[39mStudy control//Parametric Solutions 1\u001b[39;49m\u001b[39m'\u001b[39;49m)\n",
      "File \u001b[1;32md:\\WORKS\\COMSOL_polymers\\comsol_env\\Lib\\site-packages\\mph\\model.py:436\u001b[0m, in \u001b[0;36mModel.outer\u001b[1;34m(self, dataset)\u001b[0m\n\u001b[0;32m    434\u001b[0m info \u001b[39m=\u001b[39m solution\u001b[39m.\u001b[39mjava\u001b[39m.\u001b[39mgetSolutioninfo()\n\u001b[0;32m    435\u001b[0m indices \u001b[39m=\u001b[39m array(info\u001b[39m.\u001b[39mgetOuterSolnum())\n\u001b[1;32m--> 436\u001b[0m values \u001b[39m=\u001b[39m array([info\u001b[39m.\u001b[39;49mgetPvals([[index,\u001b[39m1\u001b[39;49m]])[\u001b[39m0\u001b[39;49m][\u001b[39m0\u001b[39;49m] \u001b[39mfor\u001b[39;49;00m index \u001b[39min\u001b[39;49;00m indices])\n\u001b[0;32m    437\u001b[0m \u001b[39mreturn\u001b[39;00m (indices, values)\n",
      "File \u001b[1;32md:\\WORKS\\COMSOL_polymers\\comsol_env\\Lib\\site-packages\\mph\\model.py:436\u001b[0m, in \u001b[0;36m<listcomp>\u001b[1;34m(.0)\u001b[0m\n\u001b[0;32m    434\u001b[0m info \u001b[39m=\u001b[39m solution\u001b[39m.\u001b[39mjava\u001b[39m.\u001b[39mgetSolutioninfo()\n\u001b[0;32m    435\u001b[0m indices \u001b[39m=\u001b[39m array(info\u001b[39m.\u001b[39mgetOuterSolnum())\n\u001b[1;32m--> 436\u001b[0m values \u001b[39m=\u001b[39m array([info\u001b[39m.\u001b[39;49mgetPvals([[index,\u001b[39m1\u001b[39;49m]])[\u001b[39m0\u001b[39m][\u001b[39m0\u001b[39m] \u001b[39mfor\u001b[39;00m index \u001b[39min\u001b[39;00m indices])\n\u001b[0;32m    437\u001b[0m \u001b[39mreturn\u001b[39;00m (indices, values)\n",
      "\u001b[1;31mjava.lang.ArrayIndexOutOfBoundsException\u001b[0m: java.lang.ArrayIndexOutOfBoundsException: Index 1 out of bounds for length 1"
     ]
    }
   ],
   "source": [
    "model.outer(dataset='Study control//Parametric Solutions 1')"
   ]
  },
  {
   "cell_type": "code",
   "execution_count": 85,
   "metadata": {},
   "outputs": [],
   "source": [
    "client.clear()"
   ]
  }
 ],
 "metadata": {
  "kernelspec": {
   "display_name": "Python 3.11.1 ('comsol_env': venv)",
   "language": "python",
   "name": "python3"
  },
  "language_info": {
   "codemirror_mode": {
    "name": "ipython",
    "version": 3
   },
   "file_extension": ".py",
   "mimetype": "text/x-python",
   "name": "python",
   "nbconvert_exporter": "python",
   "pygments_lexer": "ipython3",
   "version": "3.11.1"
  },
  "orig_nbformat": 4,
  "vscode": {
   "interpreter": {
    "hash": "cfc74b5112ba15cacff33bd9aeec3e307c41273b8b665299e3e0f715eb38eb42"
   }
  }
 },
 "nbformat": 4,
 "nbformat_minor": 2
}
