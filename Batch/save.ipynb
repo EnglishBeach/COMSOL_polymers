{
 "cells": [
  {
   "cell_type": "code",
   "execution_count": 1,
   "metadata": {},
   "outputs": [],
   "source": [
    "import peewee as pw\n",
    "import structure"
   ]
  },
  {
   "cell_type": "code",
   "execution_count": null,
   "metadata": {},
   "outputs": [],
   "source": [
    "def df_from_comsol(\n",
    "    name,\n",
    "    from_name=r'\\out.csv',\n",
    "    temp_name=r'\\temp.csv',\n",
    "):\n",
    "    with open(r'io\\Data.scv', 'r') as file:\n",
    "        lines = file.readlines()\n",
    "\n",
    "    with open(PATH_EXCEL + temp_name, 'w') as file:\n",
    "        for line in lines[4:]:\n",
    "            file.write(line)\n",
    "    df = pd.read_csv(PATH_EXCEL + r'\\temp.csv')\n",
    "    df = df.rename(\n",
    "        columns={\n",
    "            df.columns[0]: df.columns[0].replace('% ', ''),\n",
    "            'Time=1E-4, timeint(0, 1E-4, D)': 'target',\n",
    "        })\n",
    "    df['name'] = name\n",
    "    df['date'] = datetime.now().replace(second=0, microsecond=0)\n",
    "    return df\n",
    "\n",
    "def save(name='test',desc='test desc'):\n",
    "    \n",
    "    "
   ]
  }
 ],
 "metadata": {
  "kernelspec": {
   "display_name": "Python 3.11.1 ('comsol_env': venv)",
   "language": "python",
   "name": "python3"
  },
  "language_info": {
   "codemirror_mode": {
    "name": "ipython",
    "version": 3
   },
   "file_extension": ".py",
   "mimetype": "text/x-python",
   "name": "python",
   "nbconvert_exporter": "python",
   "pygments_lexer": "ipython3",
   "version": "3.11.1"
  },
  "orig_nbformat": 4,
  "vscode": {
   "interpreter": {
    "hash": "cfc74b5112ba15cacff33bd9aeec3e307c41273b8b665299e3e0f715eb38eb42"
   }
  }
 },
 "nbformat": 4,
 "nbformat_minor": 2
}
